{
 "cells": [
  {
   "cell_type": "markdown",
   "metadata": {},
   "source": [
    "# Python 13: Manipulating Time Series\n",
    "## ECE 204 Data Science & Engineering"
   ]
  },
  {
   "cell_type": "markdown",
   "metadata": {},
   "source": [
    "### Lecture Notes"
   ]
  },
  {
   "cell_type": "code",
   "execution_count": 3,
   "metadata": {},
   "outputs": [],
   "source": [
    "import pandas as pd\n",
    "import numpy as np"
   ]
  },
  {
   "cell_type": "markdown",
   "metadata": {},
   "source": [
    "### In-Class Activity\n",
    "#### Please first read the questions in the in-class activity, where the questions are there in detail. This is just a starter notebook."
   ]
  },
  {
   "cell_type": "code",
   "execution_count": 4,
   "metadata": {},
   "outputs": [
    {
     "data": {
      "text/html": [
       "<div>\n",
       "<style scoped>\n",
       "    .dataframe tbody tr th:only-of-type {\n",
       "        vertical-align: middle;\n",
       "    }\n",
       "\n",
       "    .dataframe tbody tr th {\n",
       "        vertical-align: top;\n",
       "    }\n",
       "\n",
       "    .dataframe thead th {\n",
       "        text-align: right;\n",
       "    }\n",
       "</style>\n",
       "<table border=\"1\" class=\"dataframe\">\n",
       "  <thead>\n",
       "    <tr style=\"text-align: right;\">\n",
       "      <th></th>\n",
       "      <th>delay</th>\n",
       "      <th>destination</th>\n",
       "      <th>distance</th>\n",
       "      <th>origin</th>\n",
       "    </tr>\n",
       "    <tr>\n",
       "      <th>date</th>\n",
       "      <th></th>\n",
       "      <th></th>\n",
       "      <th></th>\n",
       "      <th></th>\n",
       "    </tr>\n",
       "  </thead>\n",
       "  <tbody>\n",
       "    <tr>\n",
       "      <th>2001-01-13 14:56:00</th>\n",
       "      <td>32</td>\n",
       "      <td>SJC</td>\n",
       "      <td>417</td>\n",
       "      <td>SAN</td>\n",
       "    </tr>\n",
       "    <tr>\n",
       "      <th>2001-01-31 16:40:00</th>\n",
       "      <td>-5</td>\n",
       "      <td>ISP</td>\n",
       "      <td>1093</td>\n",
       "      <td>FLL</td>\n",
       "    </tr>\n",
       "    <tr>\n",
       "      <th>2001-02-11 18:39:00</th>\n",
       "      <td>3</td>\n",
       "      <td>DAL</td>\n",
       "      <td>293</td>\n",
       "      <td>LBB</td>\n",
       "    </tr>\n",
       "    <tr>\n",
       "      <th>2001-01-10 21:00:00</th>\n",
       "      <td>-15</td>\n",
       "      <td>MCO</td>\n",
       "      <td>550</td>\n",
       "      <td>MSY</td>\n",
       "    </tr>\n",
       "    <tr>\n",
       "      <th>2001-03-30 21:45:00</th>\n",
       "      <td>-2</td>\n",
       "      <td>IND</td>\n",
       "      <td>229</td>\n",
       "      <td>STL</td>\n",
       "    </tr>\n",
       "  </tbody>\n",
       "</table>\n",
       "</div>"
      ],
      "text/plain": [
       "                     delay destination  distance origin\n",
       "date                                                   \n",
       "2001-01-13 14:56:00     32         SJC       417    SAN\n",
       "2001-01-31 16:40:00     -5         ISP      1093    FLL\n",
       "2001-02-11 18:39:00      3         DAL       293    LBB\n",
       "2001-01-10 21:00:00    -15         MCO       550    MSY\n",
       "2001-03-30 21:45:00     -2         IND       229    STL"
      ]
     },
     "execution_count": 4,
     "metadata": {},
     "output_type": "execute_result"
    }
   ],
   "source": [
    "flights_df = pd.read_csv(\"flights_20k.csv\", index_col=0, parse_dates=True)\n",
    "flights_df.head()"
   ]
  },
  {
   "cell_type": "markdown",
   "metadata": {},
   "source": [
    "---\n",
    "**Problem 1.** In `flights_df`, **find the mean delay for flights that landed on a `Friday`**. "
   ]
  },
  {
   "cell_type": "code",
   "execution_count": 5,
   "metadata": {},
   "outputs": [
    {
     "name": "stdout",
     "output_type": "stream",
     "text": [
      "15.59445178335535\n"
     ]
    }
   ],
   "source": [
    "\n",
    "\n",
    "# Extract the day of the week from the datetime index (0=Monday, 1=Tuesday, ..., 6=Sunday)\n",
    "flights_df['day_of_week'] = flights_df.index.dayofweek\n",
    "\n",
    "# Now, we filter the DataFrame to only include flights that landed on a Friday\n",
    "friday_flights = flights_df[flights_df['day_of_week'] == 4]\n",
    "\n",
    "# Calculate the mean delay for these flights\n",
    "mean_delay_friday = friday_flights['delay'].mean()\n",
    "\n",
    "print(mean_delay_friday)\n"
   ]
  },
  {
   "cell_type": "markdown",
   "metadata": {},
   "source": [
    "---\n",
    "**Problem 2.** In the `flights_df`, **find the number of flights that landed early (negative delay) in the month of `feb-2001`**. \n",
    "\n",
    "Note - Check if using `feb-2001`/`2001-feb` instead of `2001-02` works?"
   ]
  },
  {
   "cell_type": "code",
   "execution_count": 6,
   "metadata": {},
   "outputs": [
    {
     "name": "stdout",
     "output_type": "stream",
     "text": [
      "2576\n"
     ]
    }
   ],
   "source": [
    "# Assuming the flights_df DataFrame exists and has been read from the 'flights_20k.csv' file,\n",
    "# the code to find the number of flights that landed early in the month of February 2001 would be:\n",
    "\n",
    "# Check if the index is already in datetime format, if not convert it\n",
    "# flights_df.index = pd.to_datetime(flights_df.index)\n",
    "\n",
    "# Filter for flights in February 2001 using .loc[]\n",
    "feb_flights = flights_df.loc['2001-02']\n",
    "\n",
    "# Filter for flights that landed early (negative delay)\n",
    "early_flights_feb = feb_flights[feb_flights['delay'] < 0]\n",
    "\n",
    "# Get the number of such flights\n",
    "num_early_flights_feb = early_flights_feb.shape[0]\n",
    "\n",
    "print(num_early_flights_feb)\n"
   ]
  },
  {
   "cell_type": "markdown",
   "metadata": {},
   "source": [
    "---\n",
    "**Problem 3.** In the `flights_df`, **find the number of unique months in the data.**"
   ]
  },
  {
   "cell_type": "code",
   "execution_count": 7,
   "metadata": {},
   "outputs": [
    {
     "name": "stdout",
     "output_type": "stream",
     "text": [
      "3\n"
     ]
    }
   ],
   "source": [
    "# Assuming the flights_df DataFrame exists and has been read from the 'flights_20k.csv' file with the index as datetime,\n",
    "# the code to find the number of unique months in the data would be:\n",
    "\n",
    "# Extract the month from the datetime index\n",
    "flights_df['month'] = flights_df.index.to_period('M')\n",
    "\n",
    "# Find the number of unique months\n",
    "num_unique_months = flights_df['month'].nunique()\n",
    "\n",
    "print(num_unique_months)\n"
   ]
  },
  {
   "cell_type": "code",
   "execution_count": null,
   "metadata": {},
   "outputs": [],
   "source": []
  }
 ],
 "metadata": {
  "kernelspec": {
   "display_name": "Python 3 (ipykernel)",
   "language": "python",
   "name": "python3"
  },
  "language_info": {
   "codemirror_mode": {
    "name": "ipython",
    "version": 3
   },
   "file_extension": ".py",
   "mimetype": "text/x-python",
   "name": "python",
   "nbconvert_exporter": "python",
   "pygments_lexer": "ipython3",
   "version": "3.11.5"
  }
 },
 "nbformat": 4,
 "nbformat_minor": 4
}
