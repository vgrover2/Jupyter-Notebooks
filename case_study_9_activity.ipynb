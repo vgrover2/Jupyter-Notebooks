{
 "cells": [
  {
   "cell_type": "markdown",
   "metadata": {},
   "source": [
    "# Case Study 9: Autoregression\n",
    "## ECE204 Data Science & Engineering"
   ]
  },
  {
   "cell_type": "markdown",
   "metadata": {},
   "source": [
    "### Lecture Notes"
   ]
  },
  {
   "cell_type": "code",
   "execution_count": null,
   "metadata": {},
   "outputs": [],
   "source": []
  },
  {
   "cell_type": "markdown",
   "metadata": {},
   "source": [
    "### Import Statements"
   ]
  },
  {
   "cell_type": "code",
   "execution_count": 1,
   "metadata": {},
   "outputs": [],
   "source": [
    "# Add any import statments you need here\n",
    "from sklearn.metrics import mean_squared_error\n",
    "from statsmodels.tsa.ar_model import AutoReg\n",
    "import pandas as pd\n",
    "import numpy as np\n",
    "\n"
   ]
  },
  {
   "cell_type": "markdown",
   "metadata": {},
   "source": [
    "### In-Class Activity\n",
    "#### Please first read the questions in the in-class activity, where the questions are there in detail. This is just a starter notebook."
   ]
  },
  {
   "cell_type": "code",
   "execution_count": 2,
   "metadata": {},
   "outputs": [
    {
     "name": "stderr",
     "output_type": "stream",
     "text": [
      "C:\\Users\\16089\\AppData\\Local\\Temp\\ipykernel_41128\\953935635.py:6: FutureWarning: DataFrame.fillna with 'method' is deprecated and will raise in a future version. Use obj.ffill() or obj.bfill() instead.\n",
      "  df.fillna(method='backfill',inplace=True)\n"
     ]
    },
    {
     "data": {
      "text/html": [
       "<div>\n",
       "<style scoped>\n",
       "    .dataframe tbody tr th:only-of-type {\n",
       "        vertical-align: middle;\n",
       "    }\n",
       "\n",
       "    .dataframe tbody tr th {\n",
       "        vertical-align: top;\n",
       "    }\n",
       "\n",
       "    .dataframe thead th {\n",
       "        text-align: right;\n",
       "    }\n",
       "</style>\n",
       "<table border=\"1\" class=\"dataframe\">\n",
       "  <thead>\n",
       "    <tr style=\"text-align: right;\">\n",
       "      <th></th>\n",
       "      <th>min_temp</th>\n",
       "    </tr>\n",
       "  </thead>\n",
       "  <tbody>\n",
       "    <tr>\n",
       "      <th>1990-12-27</th>\n",
       "      <td>14.0</td>\n",
       "    </tr>\n",
       "    <tr>\n",
       "      <th>1990-12-28</th>\n",
       "      <td>13.6</td>\n",
       "    </tr>\n",
       "    <tr>\n",
       "      <th>1990-12-29</th>\n",
       "      <td>13.5</td>\n",
       "    </tr>\n",
       "    <tr>\n",
       "      <th>1990-12-30</th>\n",
       "      <td>15.7</td>\n",
       "    </tr>\n",
       "    <tr>\n",
       "      <th>1990-12-31</th>\n",
       "      <td>13.0</td>\n",
       "    </tr>\n",
       "  </tbody>\n",
       "</table>\n",
       "</div>"
      ],
      "text/plain": [
       "            min_temp\n",
       "1990-12-27      14.0\n",
       "1990-12-28      13.6\n",
       "1990-12-29      13.5\n",
       "1990-12-30      15.7\n",
       "1990-12-31      13.0"
      ]
     },
     "execution_count": 2,
     "metadata": {},
     "output_type": "execute_result"
    }
   ],
   "source": [
    "df  = pd.read_csv(\"daily-min-temp-melb.csv\", index_col=0, parse_dates=True)\n",
    "\n",
    "# fill in missing values\n",
    "idx = pd.date_range('1981-01-01', '1990-12-31')\n",
    "df = df.reindex(idx)\n",
    "df.fillna(method='backfill',inplace=True)\n",
    "\n",
    "df.tail()"
   ]
  },
  {
   "cell_type": "markdown",
   "metadata": {},
   "source": [
    "---\n",
    "**Problem 1.** In this question, your task is to fit an AR model using the same dataset and training data as before (1981-01-01 to 1990-12-24). Then, you have to forecast for the period of same testing data (1990-12-25 to 1990-12-31) choosing a value of `lags` that corresponds to using a maximum of `5` past observations. **Find the \"Mean squared error\" between the predicted values and the true minimum temperature values for the testing period.** Report your answer rounded to 2 decimal places."
   ]
  },
  {
   "cell_type": "code",
   "execution_count": 4,
   "metadata": {
    "scrolled": true
   },
   "outputs": [
    {
     "data": {
      "text/plain": [
       "6.09"
      ]
     },
     "execution_count": 4,
     "metadata": {},
     "output_type": "execute_result"
    }
   ],
   "source": [
    "# Use the same dftrain and dftest given in the case study\n",
    "# Splitting data into testing and training sets\n",
    "df_train = df['1981-01-01':'1990-12-24']\n",
    "df_test = df['1990-12-25':'1990-12-31']\n",
    "# Fit an AR model with maxlag of 5, make predictions\n",
    "model = AutoReg(df_train, lags = 5)\n",
    "model_fit = model.fit()\n",
    "predictions = model_fit.predict(start = len(df_train), end = len(df_train) + len(df_test) - 1, dynamic = False)\n",
    "# Mean squared error\n",
    "mse = mean_squared_error(df_test, predictions)\n",
    "mse_rounded = round(mse, 2)\n",
    "\n",
    "mse_rounded\n",
    "\n",
    "\n"
   ]
  },
  {
   "cell_type": "markdown",
   "metadata": {},
   "source": [
    "---\n",
    "**Problem 2.** In the case study, we forecasted minimum temperature values for 7 days (1990-12-25 to 1990-12-31) ahead from the last date in the training period (1981-01-01 to 1990-12-24). Suppose you want to get predictions on the **5th of January 1991** using a `lags = 365` and the whole dataset. What value of minimum temperature is predicted using this AR model? Report your answer rounded to 2 decimal places.\n",
    "\n",
    "**Hint:** The \"start\" and \"end\" parameters in the .predict() method might be useful. The \"start\" parameter should be the end of the training set."
   ]
  },
  {
   "cell_type": "code",
   "execution_count": null,
   "metadata": {
    "scrolled": true
   },
   "outputs": [],
   "source": [
    "# Use all the data for training\n",
    "dftrain = df"
   ]
  },
  {
   "cell_type": "code",
   "execution_count": 5,
   "metadata": {},
   "outputs": [
    {
     "name": "stderr",
     "output_type": "stream",
     "text": [
      "C:\\Users\\16089\\AppData\\Local\\Temp\\ipykernel_41128\\1252632459.py:12: FutureWarning: Series.__getitem__ treating keys as positions is deprecated. In a future version, integer keys will always be treated as labels (consistent with DataFrame behavior). To access a value by position, use `ser.iloc[pos]`\n",
      "  predicted_temp = round(predicted_value[0], 2)\n"
     ]
    },
    {
     "data": {
      "text/plain": [
       "14.46"
      ]
     },
     "execution_count": 5,
     "metadata": {},
     "output_type": "execute_result"
    }
   ],
   "source": [
    "# Your code here (retrain using lags=365 and then predict Jan 5, 1991 by selecting \"start\" and \"end\")\n",
    "\n",
    "\n",
    "# Fit an AR model with lags of 365\n",
    "model = AutoReg(df_train, lags=365)\n",
    "model_fit = model.fit()\n",
    "\n",
    "# Predict for January 5, 1991\n",
    "predicted_value = model_fit.predict(start='1991-01-05', end='1991-01-05')\n",
    "\n",
    "# Print the predicted value rounded to 2 decimal places\n",
    "predicted_temp = round(predicted_value[0], 2)\n",
    "predicted_temp"
   ]
  },
  {
   "cell_type": "code",
   "execution_count": null,
   "metadata": {},
   "outputs": [],
   "source": []
  }
 ],
 "metadata": {
  "kernelspec": {
   "display_name": "Python 3 (ipykernel)",
   "language": "python",
   "name": "python3"
  },
  "language_info": {
   "codemirror_mode": {
    "name": "ipython",
    "version": 3
   },
   "file_extension": ".py",
   "mimetype": "text/x-python",
   "name": "python",
   "nbconvert_exporter": "python",
   "pygments_lexer": "ipython3",
   "version": "3.11.5"
  }
 },
 "nbformat": 4,
 "nbformat_minor": 4
}
