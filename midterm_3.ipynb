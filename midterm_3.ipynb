{
 "cells": [
  {
   "cell_type": "markdown",
   "metadata": {
    "id": "Gp4bTwC8JOYf"
   },
   "source": [
    "# ECE 204: Assessment 3 (Fall 2022)"
   ]
  },
  {
   "cell_type": "code",
   "execution_count": 10,
   "metadata": {
    "id": "5B22bWcOJOYh"
   },
   "outputs": [],
   "source": [
    "# Import Statements\n",
    "import pandas as pd\n",
    "import numpy as np\n",
    "\n",
    "from sklearn.tree import DecisionTreeClassifier\n",
    "from sklearn.model_selection import cross_val_score\n",
    "from sklearn.linear_model import LinearRegression\n",
    "from sklearn.metrics import accuracy_score\n",
    "from sklearn.model_selection import GridSearchCV\n"
   ]
  },
  {
   "cell_type": "markdown",
   "metadata": {
    "id": "JsUn-bmYJOYh"
   },
   "source": [
    "## Item 3: Classification"
   ]
  },
  {
   "cell_type": "markdown",
   "metadata": {
    "id": "tdUFGT2aJOYi"
   },
   "source": [
    "Please add cells below as necessary to answer the questions in this item. Do not change the pre-set random seeds."
   ]
  },
  {
   "cell_type": "code",
   "execution_count": 4,
   "metadata": {
    "id": "ovM_Xj8sJOYi"
   },
   "outputs": [
    {
     "ename": "SyntaxError",
     "evalue": "unmatched ')' (1511991004.py, line 23)",
     "output_type": "error",
     "traceback": [
      "\u001b[1;36m  Cell \u001b[1;32mIn[4], line 23\u001b[1;36m\u001b[0m\n\u001b[1;33m    a.) What is the the training accuracy when max_depth = 15?\u001b[0m\n\u001b[1;37m      ^\u001b[0m\n\u001b[1;31mSyntaxError\u001b[0m\u001b[1;31m:\u001b[0m unmatched ')'\n"
     ]
    }
   ],
   "source": []
  },
  {
   "cell_type": "code",
   "execution_count": 7,
   "metadata": {
    "id": "T6gXQF7xJOYj"
   },
   "outputs": [],
   "source": [
    "# Read in Data\n",
    "df_train = pd.read_csv('sensors_train.csv')\n",
    "df_test = pd.read_csv('sensors_test.csv')\n",
    "df_train.head()\n",
    "\n",
    "X_train = df_train.loc[:,['Sensor_1','Sensor_2', 'Sensor_3', 'Sensor_4']]\n",
    "y_train = df_train['Status']\n",
    "\n",
    "X_test = df_test.loc[:,['Sensor_1','Sensor_2', 'Sensor_3', 'Sensor_4']]\n",
    "y_test = df_test['Status']"
   ]
  },
  {
   "cell_type": "code",
   "execution_count": 9,
   "metadata": {
    "id": "MKR7nFfTJOYj"
   },
   "outputs": [
    {
     "name": "stdout",
     "output_type": "stream",
     "text": [
      "Training Accuracy: 88.62%\n",
      "Testing Accuracy: 61.25%\n",
      "Sensors in order of importance: ['Sensor_1', 'Sensor_3', 'Sensor_4', 'Sensor_2']\n"
     ]
    }
   ],
   "source": [
    "# Find training and testing accuracies for a given max depth \n",
    "clf = DecisionTreeClassifier(max_depth = 15, random_state = 42)\n",
    "\n",
    "# Predict on the training and testing data and compute accuracy\n",
    "clf.fit(X_train, y_train)\n",
    "y_train_pred = clf.predict(X_train)\n",
    "training_accuracy = accuracy_score(y_train, y_train_pred) * 100  \n",
    "y_test_pred = clf.predict(X_test)\n",
    "testing_accuracy = accuracy_score(y_test, y_test_pred) * 100  \n",
    "\n",
    "# Feature importances\n",
    "feature_importances = clf.feature_importances_\n",
    "sensors_in_order_of_importance = sorted(zip(['Sensor_1', 'Sensor_2', 'Sensor_3', 'Sensor_4'], feature_importances), \n",
    "                                        key=lambda x: x[1], reverse=True)\n",
    "# Printing answers \n",
    "print(f\"Training Accuracy: {training_accuracy:.2f}%\")\n",
    "print(f\"Testing Accuracy: {testing_accuracy:.2f}%\")\n",
    "print(\"Sensors in order of importance:\", [sensor for sensor, _ in sensors_in_order_of_importance])\n"
   ]
  },
  {
   "cell_type": "code",
   "execution_count": 12,
   "metadata": {
    "id": "-XHeudHhJOYj"
   },
   "outputs": [
    {
     "name": "stdout",
     "output_type": "stream",
     "text": [
      "Optimal max_depth: 2\n",
      "Testing Accuracy with Optimal max_depth: 71.25%\n",
      "Predicted status when all sensors measure 50: Green\n",
      "Sensors used by the classifier: ['Sensor_1', 'Sensor_3']\n"
     ]
    },
    {
     "name": "stderr",
     "output_type": "stream",
     "text": [
      "C:\\Users\\16089\\AppData\\Local\\Programs\\Python\\Python311\\Lib\\site-packages\\sklearn\\base.py:465: UserWarning: X does not have valid feature names, but DecisionTreeClassifier was fitted with feature names\n",
      "  warnings.warn(\n"
     ]
    }
   ],
   "source": [
    "# Model selection via cross validation\n",
    "\n",
    "# Initialize a new DecisionTreeClassifier\n",
    "clf = DecisionTreeClassifier(random_state=42)\n",
    "param_grid = {'max_depth': list(range(1, 16))}\n",
    "\n",
    "# Initialize the GridSearchCV object with 5-fold cross-validation\n",
    "cv_clf = GridSearchCV(clf, param_grid, cv=5)\n",
    "cv_clf.fit(X_train, y_train)\n",
    "\n",
    "optimal_max_depth = cv_clf.best_params_['max_depth']\n",
    "\n",
    "# Retrain the classifier using the optimal max_depth\n",
    "clf_optimal = DecisionTreeClassifier(max_depth=optimal_max_depth, random_state=42)\n",
    "clf_optimal.fit(X_train, y_train)\n",
    "\n",
    "# Predict on the test data with the optimally trained classifier\n",
    "y_test_pred_optimal = clf_optimal.predict(X_test)\n",
    "testing_accuracy_optimal = accuracy_score(y_test, y_test_pred_optimal) * 100  # Convert to percent\n",
    "print(f\"Optimal max_depth: {optimal_max_depth}\")\n",
    "print(f\"Testing Accuracy with Optimal max_depth: {testing_accuracy_optimal:.2f}%\")\n",
    "\n",
    "# Predict the status if all four sensors are measuring 50\n",
    "predicted_status = clf_optimal.predict(np.array([[50, 50, 50, 50]]))\n",
    "print(f\"Predicted status when all sensors measure 50: {predicted_status[0]}\")\n",
    "\n",
    "feature_importances = clf_optimal.feature_importances_\n",
    "\n",
    "# Determine which sensors have a non-zero importance\n",
    "sensors = ['Sensor_1', 'Sensor_2', 'Sensor_3', 'Sensor_4']\n",
    "used_sensors = [sensor for sensor, importance in zip(sensors, feature_importances) if importance > 0]\n",
    "\n",
    "print(\"Sensors used by the classifier:\", used_sensors)\n"
   ]
  },
  {
   "cell_type": "code",
   "execution_count": null,
   "metadata": {
    "id": "I1xVUBFiJOYk"
   },
   "outputs": [],
   "source": [
    "# Retrain classifier with optimal max_depth\n",
    "clf = DecisionTreeClassifier(max_depth = ??, random_state = 42)\n"
   ]
  },
  {
   "cell_type": "markdown",
   "metadata": {
    "id": "R_KG9sVGJOYl"
   },
   "source": [
    "## Item 4: Linear Regression"
   ]
  },
  {
   "cell_type": "markdown",
   "metadata": {
    "id": "nZxjBeudJOYl"
   },
   "source": [
    "Please add/delete cells as necessary below to answer the questions in this item."
   ]
  },
  {
   "cell_type": "code",
   "execution_count": 13,
   "metadata": {
    "id": "rYMXb83JJOYl"
   },
   "outputs": [],
   "source": [
    "# Read in Data\n",
    "df_train = pd.read_csv('sensors_train.csv')\n",
    "df_test = pd.read_csv('sensors_test.csv')\n",
    "\n",
    "Xr_train = df_train.loc[:,['Sensor_1','Sensor_2', 'Sensor_3']]\n",
    "yr_train = df_train['Sensor_4']"
   ]
  },
  {
   "cell_type": "code",
   "execution_count": null,
   "metadata": {
    "id": "npAgaJwNJOYm"
   },
   "outputs": [],
   "source": [
    "As a cost-cutting measure, you are tasked with creating a model that estimates the measurements of sensor 4 using the measurements of the other three sensors. That is, we would like to create the following model: \n",
    "Sensor_4 = B0 + B1 * Sensor_1 + B2 * Sensor_2 + B3 * Sensor_3\n",
    "\n",
    "For this task, use Xr_train and yr_train given in the starter notebook.\n",
    "\n",
    "a.) Enter B0 (round to the nearest integer).\n",
    "\n",
    "Question 2\n",
    "b.) Enter B1 (round to the nearest integer).\n",
    "\n",
    "Question 3\n",
    "c.) Enter B2 (round to the nearest integer).\n",
    "\n",
    "Question 4\n",
    "d.) Enter B3 (round to the nearest integer).\n",
    "Question 5\n",
    "Enter R-squared(computed on the same dataset used to fit the model, as a number between 0 and 1 rounded to two decimal places)\n"
   ]
  },
  {
   "cell_type": "code",
   "execution_count": 14,
   "metadata": {
    "id": "IAbjbgxhJOYm"
   },
   "outputs": [
    {
     "name": "stdout",
     "output_type": "stream",
     "text": [
      "B0 (Intercept): 4\n",
      "B1 (Sensor_1 coefficient): 2\n",
      "B2 (Sensor_2 coefficient): -1\n",
      "B3 (Sensor_3 coefficient): 3\n",
      "R-squared: 0.96\n"
     ]
    }
   ],
   "source": [
    "# We'll use LinearRegression to create a model as instructed.\n",
    "from sklearn.linear_model import LinearRegression\n",
    "lr = LinearRegression()\n",
    "# Fit the model to the training data\n",
    "lr.fit(Xr_train, yr_train)\n",
    "B0 = round(lr.intercept_)\n",
    "B1, B2, B3 = [round(coef) for coef in lr.coef_]\n",
    "\n",
    "R_squared = lr.score(Xr_train, yr_train)\n",
    "\n",
    "print(f\"B0 (Intercept): {B0}\")\n",
    "print(f\"B1 (Sensor_1 coefficient): {B1}\")\n",
    "print(f\"B2 (Sensor_2 coefficient): {B2}\")\n",
    "print(f\"B3 (Sensor_3 coefficient): {B3}\")\n",
    "print(f\"R-squared: {R_squared:.2f}\")\n"
   ]
  },
  {
   "cell_type": "code",
   "execution_count": null,
   "metadata": {
    "id": "RmPN3nXMJOYm"
   },
   "outputs": [],
   "source": []
  }
 ],
 "metadata": {
  "colab": {
   "provenance": []
  },
  "kernelspec": {
   "display_name": "Python 3 (ipykernel)",
   "language": "python",
   "name": "python3"
  },
  "language_info": {
   "codemirror_mode": {
    "name": "ipython",
    "version": 3
   },
   "file_extension": ".py",
   "mimetype": "text/x-python",
   "name": "python",
   "nbconvert_exporter": "python",
   "pygments_lexer": "ipython3",
   "version": "3.11.5"
  }
 },
 "nbformat": 4,
 "nbformat_minor": 4
}
