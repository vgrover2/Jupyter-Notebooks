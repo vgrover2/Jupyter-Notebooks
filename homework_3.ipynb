{
 "cells": [
  {
   "cell_type": "markdown",
   "metadata": {},
   "source": [
    "# Homework 3\n",
    "## ECE204 Data Science & Engineering"
   ]
  },
  {
   "cell_type": "markdown",
   "metadata": {},
   "source": [
    "---\n",
    "## Question 1\n",
    "> A number N is _divisible_ by P if P divides N evenly. For example, 15 is divisible by 1, 3, 5, and 15. The numbers [1,3,5,15] are called the \"divisors\" of 15. Your task is to create a function that returns the sum of all the divisors of a number. For example, if you call the function \"F\", you should find that F(15) returns 24.\n",
    "> We can figure out if N is divisible by P by using Python's \"modulo\" function. The syntax for this is:\n",
    "> ```python\n",
    "> N % P == 0    # this returns True if P divides N\n",
    ">```\n",
    "> <br>For more information about the modulo (%) function in Python, see [this link](https://www.pythoncentral.io/using-python-to-check-for-odd-or-even-numbers/).\n",
    ">\n",
    "> Write the function \"F\" and test it to make sure that `F(15) == 24`. Call the function with the argument given to you in Canvas."
   ]
  },
  {
   "cell_type": "code",
   "execution_count": 2,
   "metadata": {},
   "outputs": [
    {
     "name": "stdout",
     "output_type": "stream",
     "text": [
      "F(15) = 24\n",
      "F(18045) = 31356\n"
     ]
    }
   ],
   "source": [
    "def F(N):\n",
    "    divisor_sum = 0\n",
    "    for i in range(1, N + 1):\n",
    "        if N % i == 0:\n",
    "            divisor_sum += i\n",
    "    return divisor_sum\n",
    "\n",
    "# Test the function with F(15) and F(18045)\n",
    "result_15 = F(15)\n",
    "result_18045 = F(18045)\n",
    "\n",
    "print(\"F(15) =\", result_15)\n",
    "print(\"F(18045) =\", result_18045)\n"
   ]
  },
  {
   "cell_type": "markdown",
   "metadata": {},
   "source": [
    "---\n",
    "## Question 2\n",
    "> List comprehensions we saw in class looked like this:\n",
    "> ```python\n",
    "> [ (do this) for (item in collection) ]\n",
    "> ```\n",
    "> <br>But what if we only want to select the items that satisfy an additional condition as well? We can use the syntax:\n",
    "> ```python\n",
    "> [ (do this) for (item in collection) if (true/false condition) ]\n",
    "> ```\n",
    "> <br>**Use this technique to find the sum of numbers divisible by 7 or 11 and report this result. Be sure to use the range of vlaues (inclusive) given to you in Canvas**. You may want to start with a smaller number first to make sure your list comprehension is doing the right thing!\n",
    ">\n",
    "> `NOTE:` If a number is divisible by both 7 and 11, add it only **once**.\n",
    ">\n",
    "> Hint: The answer for numbers 1 to 30 would be: 7 + 11 + 14 + 21 + 22 + 28 = 103"
   ]
  },
  {
   "cell_type": "code",
   "execution_count": 3,
   "metadata": {},
   "outputs": [
    {
     "name": "stdout",
     "output_type": "stream",
     "text": [
      "Sum of numbers divisible by 7 or 11 from 196 to 10160: 11394828\n"
     ]
    }
   ],
   "source": [
    "# your code here\n",
    "result = sum(num for num in range(196, 10161) if num % 7 == 0 or num % 11 == 0)\n",
    "print(\"Sum of numbers divisible by 7 or 11 from 196 to 10160:\", result)\n"
   ]
  },
  {
   "cell_type": "markdown",
   "metadata": {},
   "source": [
    "---\n",
    "## Question 3\n",
    "> The square of the sum of the first ten natural numbers is\n",
    ">\n",
    "> $$(1 + 2 + ... + 10)^2 = 55^2 = 3025$$\n",
    "> \n",
    ">   The sum of the squares of the first ten natural numbers is\n",
    ">\n",
    "> $$1^2 + 2^2 + ... + 10^2 = 385$$\n",
    ">\n",
    "> Hence the difference between the square of the sum of first ten natural numbers and the sum of the squares is 3025 − 385 = 2640.\n",
    ">\n",
    "> **Find the difference between the square of the sum of the first X natural numbers and the sum of the squares. Note that X is the value given to you in Canvas**\n"
   ]
  },
  {
   "cell_type": "code",
   "execution_count": 4,
   "metadata": {},
   "outputs": [
    {
     "name": "stdout",
     "output_type": "stream",
     "text": [
      "The difference between the square of the sum and the sum of squares for the first 165 natural numbers is: 186042010\n"
     ]
    }
   ],
   "source": [
    "# your code here\n",
    "n = 165\n",
    "\n",
    "# Calculate the square of the sum\n",
    "square_of_sum = sum(range(1, n + 1))**2\n",
    "\n",
    "# Calculate the sum of the squares\n",
    "sum_of_squares = sum(i**2 for i in range(1, n + 1))\n",
    "\n",
    "# Calculate the difference\n",
    "difference = square_of_sum - sum_of_squares\n",
    "\n",
    "print(\"The difference between the square of the sum and the sum of squares for the first\", n, \"natural numbers is:\", difference)\n"
   ]
  },
  {
   "cell_type": "markdown",
   "metadata": {},
   "source": [
    "---\n",
    "## Question 4\n",
    "> Out of all the points in the list of `candidates`, find the one that is the furthest (in Euclidean distance) from the `given` point? Note: the `given` point is provided for you in Canvas. \n",
    "> What is this furthest / highest distance? **Report this furthest distance rounded to two numbers after the decimal.**\n",
    ">\n",
    "> `Hint: np.linalg.norm( )`"
   ]
  },
  {
   "cell_type": "code",
   "execution_count": 5,
   "metadata": {},
   "outputs": [],
   "source": [
    "candidates = [\n",
    "    (0.0, 1.0),\n",
    "    (0.32, 0.95),\n",
    "    (0.61, 0.79),\n",
    "    (0.84, 0.55),\n",
    "    (0.97, 0.25),\n",
    "    (1.0, -0.08),\n",
    "    (0.92, -0.4),\n",
    "    (0.74, -0.68),\n",
    "    (0.48, -0.88),\n",
    "    (0.16, -0.99),\n",
    "    (-0.16, -0.99),\n",
    "    (-0.48, -0.88),\n",
    "    (-0.74, -0.68),\n",
    "    (-0.92, -0.4),\n",
    "    (-1.0, -0.08),\n",
    "    (-0.97, 0.25),\n",
    "    (-0.84, 0.55),\n",
    "    (-0.61, 0.79),\n",
    "    (-0.32, 0.95),\n",
    "    (-0.0, 1.0)\n",
    "]"
   ]
  },
  {
   "cell_type": "code",
   "execution_count": 8,
   "metadata": {},
   "outputs": [
    {
     "name": "stdout",
     "output_type": "stream",
     "text": [
      "The furthest distance from the given point is: 4.16\n"
     ]
    }
   ],
   "source": [
    "import numpy as np\n",
    "\n",
    "# Given point\n",
    "given_point = [3, 1]\n",
    "\n",
    "# List of candidate points\n",
    "candidates = [\n",
    "    (0.0, 1.0),\n",
    "    (0.32, 0.95),\n",
    "    (0.61, 0.79),\n",
    "    (0.84, 0.55),\n",
    "    (0.97, 0.25),\n",
    "    (1.0, -0.08),\n",
    "    (0.92, -0.4),\n",
    "    (0.74, -0.68),\n",
    "    (0.48, -0.88),\n",
    "    (0.16, -0.99),\n",
    "    (-0.16, -0.99),\n",
    "    (-0.48, -0.88),\n",
    "    (-0.74, -0.68),\n",
    "    (-0.92, -0.4),\n",
    "    (-1.0, -0.08),\n",
    "    (-0.97, 0.25),\n",
    "    (-0.84, 0.55),\n",
    "    (-0.61, 0.79),\n",
    "    (-0.32, 0.95),\n",
    "    (-0.0, 1.0)\n",
    "]\n",
    "\n",
    "# Calculate the Euclidean distance for each candidate point\n",
    "distances = [np.linalg.norm(np.array(candidate) - np.array(given_point)) for candidate in candidates]\n",
    "\n",
    "# Find the maximum distance\n",
    "max_distance = max(distances)\n",
    "\n",
    "# Print the maximum distance rounded to two decimal places\n",
    "print(\"The furthest distance from the given point is:\", round(max_distance, 2))\n"
   ]
  },
  {
   "cell_type": "markdown",
   "metadata": {},
   "source": [
    "---\n",
    "## Question 5\n",
    "> `celsius.csv` contains a list of temperatures in Celsius. **What is the mean Fahrenheit temperature? (Report your answer rounded to two numbers after the decimal)**\n",
    ">\n",
    "> The Celsuis to Fahrenheit conversion is given by `fahrenheit = 1.8 * celsius + 32`."
   ]
  },
  {
   "cell_type": "code",
   "execution_count": 10,
   "metadata": {},
   "outputs": [
    {
     "data": {
      "text/html": [
       "<div>\n",
       "<style scoped>\n",
       "    .dataframe tbody tr th:only-of-type {\n",
       "        vertical-align: middle;\n",
       "    }\n",
       "\n",
       "    .dataframe tbody tr th {\n",
       "        vertical-align: top;\n",
       "    }\n",
       "\n",
       "    .dataframe thead th {\n",
       "        text-align: right;\n",
       "    }\n",
       "</style>\n",
       "<table border=\"1\" class=\"dataframe\">\n",
       "  <thead>\n",
       "    <tr style=\"text-align: right;\">\n",
       "      <th></th>\n",
       "      <th>temps</th>\n",
       "    </tr>\n",
       "  </thead>\n",
       "  <tbody>\n",
       "    <tr>\n",
       "      <th>0</th>\n",
       "      <td>54.88</td>\n",
       "    </tr>\n",
       "    <tr>\n",
       "      <th>1</th>\n",
       "      <td>71.52</td>\n",
       "    </tr>\n",
       "    <tr>\n",
       "      <th>2</th>\n",
       "      <td>60.28</td>\n",
       "    </tr>\n",
       "    <tr>\n",
       "      <th>3</th>\n",
       "      <td>54.49</td>\n",
       "    </tr>\n",
       "    <tr>\n",
       "      <th>4</th>\n",
       "      <td>42.37</td>\n",
       "    </tr>\n",
       "  </tbody>\n",
       "</table>\n",
       "</div>"
      ],
      "text/plain": [
       "   temps\n",
       "0  54.88\n",
       "1  71.52\n",
       "2  60.28\n",
       "3  54.49\n",
       "4  42.37"
      ]
     },
     "execution_count": 10,
     "metadata": {},
     "output_type": "execute_result"
    }
   ],
   "source": [
    "# given code\n",
    "import pandas as pd\n",
    "# Import the data file and have a look!\n",
    "s = pd.read_csv(\"celsius.csv\")\n",
    "s.head()"
   ]
  },
  {
   "cell_type": "code",
   "execution_count": 12,
   "metadata": {},
   "outputs": [
    {
     "name": "stdout",
     "output_type": "stream",
     "text": [
      "The mean Fahrenheit temperature is: 121.36\n"
     ]
    }
   ],
   "source": [
    "import csv\n",
    "\n",
    "# Initialize an empty list to store Celsius temperatures\n",
    "celsius_temperatures = []\n",
    "\n",
    "# Read Celsius temperatures from the CSV file\n",
    "with open('celsius.csv', 'r') as file:\n",
    "    csv_reader = csv.reader(file)\n",
    "    next(csv_reader)  # Skip the header row if it exists\n",
    "    for row in csv_reader:\n",
    "        celsius_temperatures.append(float(row[0]))\n",
    "\n",
    "# Convert Celsius to Fahrenheit and calculate the mean\n",
    "fahrenheit_temperatures = [1.8 * c + 32 for c in celsius_temperatures]\n",
    "mean_fahrenheit = sum(fahrenheit_temperatures) / len(fahrenheit_temperatures)\n",
    "\n",
    "# Print the mean Fahrenheit temperature rounded to two decimal places\n",
    "print(\"The mean Fahrenheit temperature is:\", round(mean_fahrenheit, 2))\n"
   ]
  },
  {
   "cell_type": "markdown",
   "metadata": {},
   "source": [
    "---\n",
    "## Question 6\n",
    "> **What is the fastest method to convert from Celsius to Fahrenheit?**\n",
    ">\n",
    "> * a list comphrension used to make a list of all the converted temperatures\n",
    "> * using `Series.apply` to convert each element of the Series\n",
    "> * directly evaluating (`1.8*T + 32`), where `T` is the Series of temperatures\n",
    ">\n",
    "> `NOTE:` Use `%timeit` to do your timing analysis. Use the `celsius.csv` data file from the previous problem."
   ]
  },
  {
   "cell_type": "code",
   "execution_count": 18,
   "metadata": {},
   "outputs": [
    {
     "name": "stdout",
     "output_type": "stream",
     "text": [
      "      temps  Fahrenheit\n",
      "0     54.88     130.784\n",
      "1     71.52     160.736\n",
      "2     60.28     140.504\n",
      "3     54.49     130.082\n",
      "4     42.37     108.266\n",
      "...     ...         ...\n",
      "9995  55.04     131.072\n",
      "9996  39.72     103.496\n",
      "9997  75.84     168.512\n",
      "9998   2.38      36.284\n",
      "9999  81.36     178.448\n",
      "\n",
      "[10000 rows x 2 columns]\n"
     ]
    }
   ],
   "source": [
    "import pandas as pd\n",
    "\n",
    "# Load data from the CSV file\n",
    "df = pd.read_csv('celsius.csv')\n",
    "\n",
    "# Convert Celsius to Fahrenheit using direct evaluation\n",
    "df['Fahrenheit'] = 1.8 * df['temps'] + 32\n",
    "\n",
    "# Print the DataFrame with Celsius and Fahrenheit temperatures\n",
    "print(df)\n"
   ]
  },
  {
   "cell_type": "markdown",
   "metadata": {},
   "source": [
    "---\n",
    "## Question 7\n",
    "> **What is one of the centers in `features.csv` when using Scikit-Learn's KMeans?** They are listed as `[feature0, feature1]`, and `KMeans` should be used as `KMeans(n_clusters=4, random_state=42)`. These numbers are rounded -- pick the closest one in the list.\n",
    ">\n",
    "> Hint: read the documentation at https://scikit-learn.org/stable/modules/generated/sklearn.cluster.KMeans.html\n",
    ">\n",
    "> * [170  67]\n",
    "> * [170  88]\n",
    "> * [201  88]\n",
    "> * [201  67]\n",
    "> * [-131  748]\n",
    "> * [-131  728]\n",
    "> * [-161  728]\n",
    "> * [-161  748]"
   ]
  },
  {
   "cell_type": "code",
   "execution_count": 14,
   "metadata": {},
   "outputs": [
    {
     "data": {
      "text/html": [
       "<div>\n",
       "<style scoped>\n",
       "    .dataframe tbody tr th:only-of-type {\n",
       "        vertical-align: middle;\n",
       "    }\n",
       "\n",
       "    .dataframe tbody tr th {\n",
       "        vertical-align: top;\n",
       "    }\n",
       "\n",
       "    .dataframe thead th {\n",
       "        text-align: right;\n",
       "    }\n",
       "</style>\n",
       "<table border=\"1\" class=\"dataframe\">\n",
       "  <thead>\n",
       "    <tr style=\"text-align: right;\">\n",
       "      <th></th>\n",
       "      <th>feature0</th>\n",
       "      <th>feature1</th>\n",
       "    </tr>\n",
       "  </thead>\n",
       "  <tbody>\n",
       "    <tr>\n",
       "      <th>0</th>\n",
       "      <td>124.30</td>\n",
       "      <td>172.35</td>\n",
       "    </tr>\n",
       "    <tr>\n",
       "      <th>1</th>\n",
       "      <td>-135.85</td>\n",
       "      <td>755.16</td>\n",
       "    </tr>\n",
       "    <tr>\n",
       "      <th>2</th>\n",
       "      <td>109.56</td>\n",
       "      <td>483.43</td>\n",
       "    </tr>\n",
       "    <tr>\n",
       "      <th>3</th>\n",
       "      <td>-109.52</td>\n",
       "      <td>782.18</td>\n",
       "    </tr>\n",
       "    <tr>\n",
       "      <th>4</th>\n",
       "      <td>153.27</td>\n",
       "      <td>156.09</td>\n",
       "    </tr>\n",
       "  </tbody>\n",
       "</table>\n",
       "</div>"
      ],
      "text/plain": [
       "   feature0  feature1\n",
       "0    124.30    172.35\n",
       "1   -135.85    755.16\n",
       "2    109.56    483.43\n",
       "3   -109.52    782.18\n",
       "4    153.27    156.09"
      ]
     },
     "execution_count": 14,
     "metadata": {},
     "output_type": "execute_result"
    }
   ],
   "source": [
    "# Read the dataset and take a look!\n",
    "df = pd.read_csv(\"features.csv\")\n",
    "df.head()"
   ]
  },
  {
   "cell_type": "code",
   "execution_count": 15,
   "metadata": {},
   "outputs": [
    {
     "name": "stderr",
     "output_type": "stream",
     "text": [
      "C:\\Users\\16089\\AppData\\Local\\Programs\\Python\\Python311\\Lib\\site-packages\\sklearn\\cluster\\_kmeans.py:1416: FutureWarning: The default value of `n_init` will change from 10 to 'auto' in 1.4. Set the value of `n_init` explicitly to suppress the warning\n",
      "  super()._check_params_vs_input(X, default_n_init=10)\n"
     ]
    },
    {
     "name": "stdout",
     "output_type": "stream",
     "text": [
      "One of the cluster centers is: [200.6812      87.76973333]\n"
     ]
    }
   ],
   "source": [
    "# your code here\n",
    "import pandas as pd\n",
    "from sklearn.cluster import KMeans\n",
    "\n",
    "\n",
    "# Initialize KMeans with n_clusters=4 and random_state=42\n",
    "kmeans = KMeans(n_clusters=4, random_state=42)\n",
    "\n",
    "# Fit the KMeans model\n",
    "kmeans.fit(df)\n",
    "\n",
    "# Get one of the cluster centers\n",
    "center = kmeans.cluster_centers_[0]  # You can change the index to get different centers\n",
    "\n",
    "print(\"One of the cluster centers is:\", center)\n"
   ]
  },
  {
   "cell_type": "markdown",
   "metadata": {},
   "source": [
    "---\n",
    "## Question 8\n",
    "> **Using the same setup as before, which cluster center is the point `[-100, 850]` nearest to?** <br>\n",
    ">\n",
    "> `NOTE:` **choose a valid cluster center**\n",
    ">\n",
    "> * [-157,  286]\n",
    "> * [-91,  743]\n",
    "> * [ 201,   87]\n",
    "> * [  -133,  778]"
   ]
  },
  {
   "cell_type": "code",
   "execution_count": 16,
   "metadata": {},
   "outputs": [
    {
     "name": "stdout",
     "output_type": "stream",
     "text": [
      "The point [-100, 850] is nearest to cluster center: [-133.15813333  778.09466667]\n"
     ]
    },
    {
     "name": "stderr",
     "output_type": "stream",
     "text": [
      "C:\\Users\\16089\\AppData\\Local\\Programs\\Python\\Python311\\Lib\\site-packages\\sklearn\\cluster\\_kmeans.py:1416: FutureWarning: The default value of `n_init` will change from 10 to 'auto' in 1.4. Set the value of `n_init` explicitly to suppress the warning\n",
      "  super()._check_params_vs_input(X, default_n_init=10)\n",
      "C:\\Users\\16089\\AppData\\Local\\Programs\\Python\\Python311\\Lib\\site-packages\\sklearn\\base.py:465: UserWarning: X does not have valid feature names, but KMeans was fitted with feature names\n",
      "  warnings.warn(\n"
     ]
    }
   ],
   "source": [
    "# your code here\n",
    "from sklearn.cluster import KMeans\n",
    "\n",
    "# Point to be assigned to the nearest cluster\n",
    "point = [-100, 850]\n",
    "\n",
    "# Initialize KMeans with n_clusters=4 and random_state=42\n",
    "kmeans = KMeans(n_clusters=4, random_state=42)\n",
    "\n",
    "# Fit the KMeans model\n",
    "kmeans.fit(df) \n",
    "\n",
    "# Use the predict method to find the nearest cluster\n",
    "nearest_cluster = kmeans.predict([point])[0]\n",
    "\n",
    "# List of cluster centers\n",
    "cluster_centers = kmeans.cluster_centers_\n",
    "\n",
    "# Find the cluster center that the point is nearest to\n",
    "nearest_center = cluster_centers[nearest_cluster]\n",
    "\n",
    "print(\"The point [-100, 850] is nearest to cluster center:\", nearest_center)\n"
   ]
  },
  {
   "cell_type": "markdown",
   "metadata": {},
   "source": [
    "---"
   ]
  }
 ],
 "metadata": {
  "kernelspec": {
   "display_name": "Python 3 (ipykernel)",
   "language": "python",
   "name": "python3"
  },
  "language_info": {
   "codemirror_mode": {
    "name": "ipython",
    "version": 3
   },
   "file_extension": ".py",
   "mimetype": "text/x-python",
   "name": "python",
   "nbconvert_exporter": "python",
   "pygments_lexer": "ipython3",
   "version": "3.11.5"
  }
 },
 "nbformat": 4,
 "nbformat_minor": 4
}
