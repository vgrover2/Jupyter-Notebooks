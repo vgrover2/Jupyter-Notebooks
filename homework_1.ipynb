{
 "cells": [
  {
   "cell_type": "markdown",
   "metadata": {},
   "source": [
    "# Homework 1: Vedant Grover\n",
    "\n",
    "## ECE 204 Data Science & Engineering\n",
    "\n",
    "Consider the two CSV files named `a.csv` and `b.csv`. CSV files (Comma-Separated Values) are a way of storing tabular data in plain-text format. Each new column is separated by a marker (usually a comma) and each new row is indicated by a new line. For example, if the file contained:\n",
    "```\n",
    "label,foo,bar\n",
    "a,1.1,2.4\n",
    "b,2.6,1.5\n",
    "```\n",
    "Then it would encode the table:\n",
    "\n",
    "| label  | foo | bar |\n",
    "|--------|-----|-----|\n",
    "|  a     | 1.1 | 2.4 |\n",
    "|  b     | 2.6 | 1.5 |\n",
    "\n",
    "Programs such as Excel can parse CSV files automatically and import them into spreadsheets. It turns out Pandas also has a function to import CSV files directly as a Pandas DataFrame. Run the following code cell to import the two CSV files into dataframes named `df1` and `df2`."
   ]
  },
  {
   "cell_type": "code",
   "execution_count": 2,
   "metadata": {},
   "outputs": [
    {
     "name": "stdout",
     "output_type": "stream",
     "text": [
      "Requirement already satisfied: pandas in c:\\users\\16089\\appdata\\local\\programs\\python\\python311\\lib\\site-packages (2.1.1)\n",
      "Requirement already satisfied: numpy>=1.23.2 in c:\\users\\16089\\appdata\\local\\programs\\python\\python311\\lib\\site-packages (from pandas) (1.26.0)\n",
      "Requirement already satisfied: python-dateutil>=2.8.2 in c:\\users\\16089\\appdata\\local\\programs\\python\\python311\\lib\\site-packages (from pandas) (2.8.2)\n",
      "Requirement already satisfied: pytz>=2020.1 in c:\\users\\16089\\appdata\\local\\programs\\python\\python311\\lib\\site-packages (from pandas) (2023.3.post1)\n",
      "Requirement already satisfied: tzdata>=2022.1 in c:\\users\\16089\\appdata\\local\\programs\\python\\python311\\lib\\site-packages (from pandas) (2023.3)\n",
      "Requirement already satisfied: six>=1.5 in c:\\users\\16089\\appdata\\local\\programs\\python\\python311\\lib\\site-packages (from python-dateutil>=2.8.2->pandas) (1.16.0)\n"
     ]
    }
   ],
   "source": [
    "!pip install pandas\n",
    "\n",
    "import pandas as pd\n",
    "\n",
    "df1 = pd.read_csv('a.csv')\n",
    "df2 = pd.read_csv('b.csv')"
   ]
  },
  {
   "cell_type": "markdown",
   "metadata": {},
   "source": [
    "The files contain databases of people (one person per row) with different attributes for each of them (each attribute has a column). The data includes address, age, net worth, and an essay. (all these data are fabricated, of course). Use the `head` method to examine the contents of these dataframes by running `df1.head()` and `df2.head()` in the next cell."
   ]
  },
  {
   "cell_type": "code",
   "execution_count": 6,
   "metadata": {
    "scrolled": true
   },
   "outputs": [
    {
     "data": {
      "text/html": [
       "<div>\n",
       "<style scoped>\n",
       "    .dataframe tbody tr th:only-of-type {\n",
       "        vertical-align: middle;\n",
       "    }\n",
       "\n",
       "    .dataframe tbody tr th {\n",
       "        vertical-align: top;\n",
       "    }\n",
       "\n",
       "    .dataframe thead th {\n",
       "        text-align: right;\n",
       "    }\n",
       "</style>\n",
       "<table border=\"1\" class=\"dataframe\">\n",
       "  <thead>\n",
       "    <tr style=\"text-align: right;\">\n",
       "      <th></th>\n",
       "      <th>name</th>\n",
       "      <th>age</th>\n",
       "      <th>address</th>\n",
       "      <th>essay</th>\n",
       "    </tr>\n",
       "  </thead>\n",
       "  <tbody>\n",
       "    <tr>\n",
       "      <th>0</th>\n",
       "      <td>Ryan Gallagher</td>\n",
       "      <td>75</td>\n",
       "      <td>6317 Mary Light Smithview, HI 13900</td>\n",
       "      <td>Against power across. Rather why rise month sh...</td>\n",
       "    </tr>\n",
       "    <tr>\n",
       "      <th>1</th>\n",
       "      <td>Theresa Brown</td>\n",
       "      <td>20</td>\n",
       "      <td>449 Austin Rapid Suite 685 Seanburgh, AK 61435</td>\n",
       "      <td>Interest this clearly concern discover compute...</td>\n",
       "    </tr>\n",
       "    <tr>\n",
       "      <th>2</th>\n",
       "      <td>Brian Foster</td>\n",
       "      <td>61</td>\n",
       "      <td>4038 Hill Drive East Sarafort, SC 25854</td>\n",
       "      <td>Face test which summer head. Front hold eat ea...</td>\n",
       "    </tr>\n",
       "    <tr>\n",
       "      <th>3</th>\n",
       "      <td>Natalie Pope</td>\n",
       "      <td>87</td>\n",
       "      <td>USNV Nielsen FPO AE 61531</td>\n",
       "      <td>Too both light. Herself bill economic room imp...</td>\n",
       "    </tr>\n",
       "    <tr>\n",
       "      <th>4</th>\n",
       "      <td>Samantha Washington</td>\n",
       "      <td>44</td>\n",
       "      <td>7550 Laurie Row South Evelyn, NV 96037</td>\n",
       "      <td>Rate such friend behavior song source knowledg...</td>\n",
       "    </tr>\n",
       "  </tbody>\n",
       "</table>\n",
       "</div>"
      ],
      "text/plain": [
       "                  name  age                                         address  \\\n",
       "0       Ryan Gallagher   75             6317 Mary Light Smithview, HI 13900   \n",
       "1        Theresa Brown   20  449 Austin Rapid Suite 685 Seanburgh, AK 61435   \n",
       "2         Brian Foster   61         4038 Hill Drive East Sarafort, SC 25854   \n",
       "3         Natalie Pope   87                       USNV Nielsen FPO AE 61531   \n",
       "4  Samantha Washington   44          7550 Laurie Row South Evelyn, NV 96037   \n",
       "\n",
       "                                               essay  \n",
       "0  Against power across. Rather why rise month sh...  \n",
       "1  Interest this clearly concern discover compute...  \n",
       "2  Face test which summer head. Front hold eat ea...  \n",
       "3  Too both light. Herself bill economic room imp...  \n",
       "4  Rate such friend behavior song source knowledg...  "
      ]
     },
     "execution_count": 6,
     "metadata": {},
     "output_type": "execute_result"
    }
   ],
   "source": [
    "df1.head()\n"
   ]
  },
  {
   "cell_type": "code",
   "execution_count": 7,
   "metadata": {},
   "outputs": [
    {
     "data": {
      "text/html": [
       "<div>\n",
       "<style scoped>\n",
       "    .dataframe tbody tr th:only-of-type {\n",
       "        vertical-align: middle;\n",
       "    }\n",
       "\n",
       "    .dataframe tbody tr th {\n",
       "        vertical-align: top;\n",
       "    }\n",
       "\n",
       "    .dataframe thead th {\n",
       "        text-align: right;\n",
       "    }\n",
       "</style>\n",
       "<table border=\"1\" class=\"dataframe\">\n",
       "  <thead>\n",
       "    <tr style=\"text-align: right;\">\n",
       "      <th></th>\n",
       "      <th>name</th>\n",
       "      <th>net_worth</th>\n",
       "    </tr>\n",
       "  </thead>\n",
       "  <tbody>\n",
       "    <tr>\n",
       "      <th>0</th>\n",
       "      <td>Ryan Gallagher</td>\n",
       "      <td>217.02</td>\n",
       "    </tr>\n",
       "    <tr>\n",
       "      <th>1</th>\n",
       "      <td>Theresa Brown</td>\n",
       "      <td>235.99</td>\n",
       "    </tr>\n",
       "    <tr>\n",
       "      <th>2</th>\n",
       "      <td>Joshua Wood</td>\n",
       "      <td>350.80</td>\n",
       "    </tr>\n",
       "    <tr>\n",
       "      <th>3</th>\n",
       "      <td>Natalie Pope</td>\n",
       "      <td>21.99</td>\n",
       "    </tr>\n",
       "    <tr>\n",
       "      <th>4</th>\n",
       "      <td>Samantha Washington</td>\n",
       "      <td>692.86</td>\n",
       "    </tr>\n",
       "  </tbody>\n",
       "</table>\n",
       "</div>"
      ],
      "text/plain": [
       "                  name  net_worth\n",
       "0       Ryan Gallagher     217.02\n",
       "1        Theresa Brown     235.99\n",
       "2          Joshua Wood     350.80\n",
       "3         Natalie Pope      21.99\n",
       "4  Samantha Washington     692.86"
      ]
     },
     "execution_count": 7,
     "metadata": {},
     "output_type": "execute_result"
    }
   ],
   "source": [
    "df2.head()"
   ]
  },
  {
   "cell_type": "markdown",
   "metadata": {},
   "source": [
    "---\n",
    "**Problem 1.** The two files contain records on some of the same people, but there are people in `df1` that are not in `df2` (and vice versa). Your first task is to create a new dataframe called `df` that contains (1) the columns from both `df1` and `df2`, but (2) only the names that belong to both `df1` and `df2`. **Hint:** what we're doing here is called an \"inner join\"; it takes the intersection of values in the \"name\" column, which is shared in both DataFrames. Take a look at the function [pd.merge](https://pandas.pydata.org/pandas-docs/stable/generated/pandas.DataFrame.merge.html). There is also more information on [DataFrame joining and merging](https://pandas.pydata.org/pandas-docs/stable/merging.html#database-style-dataframe-joining-merging).\n",
    "\n",
    "Find the number of names in your newly created `df`.\n",
    "\n"
   ]
  },
  {
   "cell_type": "code",
   "execution_count": 8,
   "metadata": {},
   "outputs": [
    {
     "data": {
      "text/plain": [
       "318"
      ]
     },
     "execution_count": 8,
     "metadata": {},
     "output_type": "execute_result"
    }
   ],
   "source": [
    "df = pd.merge(df1,df2)\n",
    "len(df)"
   ]
  },
  {
   "cell_type": "code",
   "execution_count": 9,
   "metadata": {},
   "outputs": [
    {
     "data": {
      "text/html": [
       "<div>\n",
       "<style scoped>\n",
       "    .dataframe tbody tr th:only-of-type {\n",
       "        vertical-align: middle;\n",
       "    }\n",
       "\n",
       "    .dataframe tbody tr th {\n",
       "        vertical-align: top;\n",
       "    }\n",
       "\n",
       "    .dataframe thead th {\n",
       "        text-align: right;\n",
       "    }\n",
       "</style>\n",
       "<table border=\"1\" class=\"dataframe\">\n",
       "  <thead>\n",
       "    <tr style=\"text-align: right;\">\n",
       "      <th></th>\n",
       "      <th>name</th>\n",
       "      <th>age</th>\n",
       "      <th>address</th>\n",
       "      <th>essay</th>\n",
       "      <th>net_worth</th>\n",
       "    </tr>\n",
       "  </thead>\n",
       "  <tbody>\n",
       "    <tr>\n",
       "      <th>0</th>\n",
       "      <td>Ryan Gallagher</td>\n",
       "      <td>75</td>\n",
       "      <td>6317 Mary Light Smithview, HI 13900</td>\n",
       "      <td>Against power across. Rather why rise month sh...</td>\n",
       "      <td>217.02</td>\n",
       "    </tr>\n",
       "    <tr>\n",
       "      <th>1</th>\n",
       "      <td>Theresa Brown</td>\n",
       "      <td>20</td>\n",
       "      <td>449 Austin Rapid Suite 685 Seanburgh, AK 61435</td>\n",
       "      <td>Interest this clearly concern discover compute...</td>\n",
       "      <td>235.99</td>\n",
       "    </tr>\n",
       "    <tr>\n",
       "      <th>2</th>\n",
       "      <td>Natalie Pope</td>\n",
       "      <td>87</td>\n",
       "      <td>USNV Nielsen FPO AE 61531</td>\n",
       "      <td>Too both light. Herself bill economic room imp...</td>\n",
       "      <td>21.99</td>\n",
       "    </tr>\n",
       "    <tr>\n",
       "      <th>3</th>\n",
       "      <td>Samantha Washington</td>\n",
       "      <td>44</td>\n",
       "      <td>7550 Laurie Row South Evelyn, NV 96037</td>\n",
       "      <td>Rate such friend behavior song source knowledg...</td>\n",
       "      <td>692.86</td>\n",
       "    </tr>\n",
       "    <tr>\n",
       "      <th>4</th>\n",
       "      <td>James Taylor</td>\n",
       "      <td>58</td>\n",
       "      <td>9158 Graves Route Port Stephanieview, AZ 17858</td>\n",
       "      <td>As read smile thought try day difference socie...</td>\n",
       "      <td>-189.63</td>\n",
       "    </tr>\n",
       "  </tbody>\n",
       "</table>\n",
       "</div>"
      ],
      "text/plain": [
       "                  name  age                                         address  \\\n",
       "0       Ryan Gallagher   75             6317 Mary Light Smithview, HI 13900   \n",
       "1        Theresa Brown   20  449 Austin Rapid Suite 685 Seanburgh, AK 61435   \n",
       "2         Natalie Pope   87                       USNV Nielsen FPO AE 61531   \n",
       "3  Samantha Washington   44          7550 Laurie Row South Evelyn, NV 96037   \n",
       "4         James Taylor   58  9158 Graves Route Port Stephanieview, AZ 17858   \n",
       "\n",
       "                                               essay  net_worth  \n",
       "0  Against power across. Rather why rise month sh...     217.02  \n",
       "1  Interest this clearly concern discover compute...     235.99  \n",
       "2  Too both light. Herself bill economic room imp...      21.99  \n",
       "3  Rate such friend behavior song source knowledg...     692.86  \n",
       "4  As read smile thought try day difference socie...    -189.63  "
      ]
     },
     "execution_count": 9,
     "metadata": {},
     "output_type": "execute_result"
    }
   ],
   "source": [
    "df.head()"
   ]
  },
  {
   "cell_type": "markdown",
   "metadata": {},
   "source": [
    "---\n",
    "**Problem 2.** What is the full name of the person with the highest net worth in `df2`? For this problem, break it up into two steps: First consider the `net_worth` column and find the index of its largest value (look at the method `pd.Series.idxmax`). Then, use the index you found to extract the required information."
   ]
  },
  {
   "cell_type": "code",
   "execution_count": 10,
   "metadata": {},
   "outputs": [
    {
     "data": {
      "text/plain": [
       "'Veronica Bentley'"
      ]
     },
     "execution_count": 10,
     "metadata": {},
     "output_type": "execute_result"
    }
   ],
   "source": [
    "index = df2.net_worth.idxmax()  \n",
    "df2.name.iloc[index] "
   ]
  },
  {
   "cell_type": "markdown",
   "metadata": {},
   "source": [
    "---\n",
    "**Problem 3.** What is the full address of the person that wrote the shortest essay in `df1`?\n",
    "\n",
    "**Hint 1:** If you want to apply a function such as `len()` to an entire column of a dataframe \n",
    "(apply `len` to each item in the column), take a look at the method `pd.Series.apply`.\n",
    "\n",
    "**Hint 2:** If you used `pd.Series.idxmax` to find the index associated the maximum value of a Series, which method should you use the find the index of the minimum value?"
   ]
  },
  {
   "cell_type": "code",
   "execution_count": 11,
   "metadata": {},
   "outputs": [
    {
     "data": {
      "text/plain": [
       "'177 Jeffrey Forge Paigestad, MA 51130'"
      ]
     },
     "execution_count": 11,
     "metadata": {},
     "output_type": "execute_result"
    }
   ],
   "source": [
    "df1.address.iloc[df1.essay.apply(len).idxmin()]"
   ]
  },
  {
   "cell_type": "markdown",
   "metadata": {},
   "source": [
    "---\n",
    "**Problem 4.** What is the sum of all the 5-digit ZIP codes at the end of every address in `df1`? For example, if two addresses are \"Unit 8092 Box 6526 DPO AE 62605\" and \"1048 Bryant Ports Lake Victoria, WY 96197\". The two 5-digit codes at the end of the address are 62605 and 96197. The sum of these two numbers is 62605 + 96197 = 158802.   **Hint:** Consider creating a custom function that extracts the ZIP code from a single string, and then use the `apply` method to apply your function to each address. "
   ]
  },
  {
   "cell_type": "code",
   "execution_count": 12,
   "metadata": {},
   "outputs": [
    {
     "data": {
      "text/plain": [
       "31727403"
      ]
     },
     "execution_count": 12,
     "metadata": {},
     "output_type": "execute_result"
    }
   ],
   "source": [
    "def extract_zip(addr):\n",
    "    return int(addr[-5:])\n",
    "df1.address.apply(extract_zip).sum()"
   ]
  },
  {
   "cell_type": "markdown",
   "metadata": {},
   "source": [
    "---\n",
    "**Problem 5.** How many people in `df1` are 70 years old or older? **Hint:** If you use a logical statement such as x < 3 (which typically returns a `bool`), but instead apply the comparison to a Series or DataFrame (e.g. imagine `x` was a Pandas Series instead of a single number), the comparison will apply element-wise to all items in the Series. Try it out!"
   ]
  },
  {
   "cell_type": "code",
   "execution_count": 15,
   "metadata": {},
   "outputs": [
    {
     "name": "stdout",
     "output_type": "stream",
     "text": [
      "206\n"
     ]
    }
   ],
   "source": [
    "print(sum(df1.age >= 70))"
   ]
  },
  {
   "cell_type": "code",
   "execution_count": null,
   "metadata": {},
   "outputs": [],
   "source": []
  }
 ],
 "metadata": {
  "kernelspec": {
   "display_name": "Python 3 (ipykernel)",
   "language": "python",
   "name": "python3"
  },
  "language_info": {
   "codemirror_mode": {
    "name": "ipython",
    "version": 3
   },
   "file_extension": ".py",
   "mimetype": "text/x-python",
   "name": "python",
   "nbconvert_exporter": "python",
   "pygments_lexer": "ipython3",
   "version": "3.11.5"
  }
 },
 "nbformat": 4,
 "nbformat_minor": 4
}
